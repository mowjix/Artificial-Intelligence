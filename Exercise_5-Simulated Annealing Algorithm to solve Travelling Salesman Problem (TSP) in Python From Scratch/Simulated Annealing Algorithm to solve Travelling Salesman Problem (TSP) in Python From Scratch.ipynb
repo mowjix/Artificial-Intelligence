{
 "cells": [
  {
   "cell_type": "markdown",
   "metadata": {},
   "source": [
    "# Simulated Annealing Algotithm to sove Travelling Salesman Problem (TSP) in Python From Scratch\n",
    "---\n",
    "     By: Mojtaba Zolfaghari\n",
    "     Last updated on April 28, 2021\n"
   ]
  },
  {
   "cell_type": "markdown",
   "metadata": {},
   "source": [
    "### What is Simulated annealing algorithm?\n",
    "\n",
    "---\n",
    "\n",
    "    Simulated Annealing is a stochastic global search optimization algorithm.\n",
    "\n",
    "    This means that it makes use of randomness as part of the search process. This makes the algorithm appropriate for nonlinear objective functions where other local search algorithms do not operate well.\n",
    "\n",
    "    Like the stochastic hill climbing local search algorithm, it modifies a single solution and searches the relatively local area of the search space until the local optima is located. Unlike the hill climbing algorithm, it may accept worse solutions as the current working solution.\n",
    "\n",
    "    The likelihood of accepting worse solutions starts high at the beginning of the search and decreases with the progress of the search, giving the algorithm the opportunity to first locate the region for the global optima, escaping local optima, then hill climb to the optima itself.\n",
    "\n",
    "\n",
    "\n",
    "### What is Travelling salesman problem?\n",
    "\n",
    "---\n",
    "\n",
    "    The travelling salesman problem (also called the traveling salesperson problem or TSP) asks the following question: \"Given a list of cities and the distances between each pair of cities, what is the shortest possible route that visits each city exactly once and returns to the origin city?\" It is an NP-hard problem in combinatorial optimization, important in theoretical computer science and operations research.\n",
    "    \n",
    "In the following, we will implement the simulated annealing algorithm on the traveling salesman problem step by step..."
   ]
  },
  {
   "cell_type": "markdown",
   "metadata": {},
   "source": [
    "## Importing libraries"
   ]
  },
  {
   "cell_type": "code",
   "execution_count": 1,
   "metadata": {},
   "outputs": [],
   "source": [
    "import random\n",
    "import numpy as np\n",
    "import math\n",
    "import matplotlib.pyplot as plt\n",
    "from matplotlib.animation import FuncAnimation\n",
    "import numpy as np"
   ]
  },
  {
   "cell_type": "markdown",
   "metadata": {},
   "source": [
    "## This class allows to us to generate random list of nodes"
   ]
  },
  {
   "cell_type": "code",
   "execution_count": 14,
   "metadata": {},
   "outputs": [],
   "source": [
    "class NodeGenerator:\n",
    "    def __init__(self, width, height, nodesNumber):\n",
    "        self.width = width\n",
    "        self.height = height\n",
    "        self.nodesNumber = nodesNumber\n",
    "\n",
    "    def generate(self):\n",
    "        xs = np.random.randint(self.width, size=self.nodesNumber)\n",
    "        ys = np.random.randint(self.height, size=self.nodesNumber)\n",
    "\n",
    "        return np.column_stack((xs, ys))"
   ]
  },
  {
   "cell_type": "markdown",
   "metadata": {},
   "source": [
    "## Create the distance matrix"
   ]
  },
  {
   "cell_type": "code",
   "execution_count": 3,
   "metadata": {},
   "outputs": [],
   "source": [
    "def vectorToDistMatrix(coords):\n",
    "    return np.sqrt((np.square(coords[:, np.newaxis] - coords).sum(axis=2)))"
   ]
  },
  {
   "cell_type": "markdown",
   "metadata": {},
   "source": [
    "## Computes the initial solution (nearest neighbour strategy)"
   ]
  },
  {
   "cell_type": "code",
   "execution_count": 4,
   "metadata": {},
   "outputs": [],
   "source": [
    "def nearestNeighbourSolution(dist_matrix):\n",
    "    node = random.randrange(len(dist_matrix))\n",
    "    result = [node]\n",
    "\n",
    "    nodes_to_visit = list(range(len(dist_matrix)))\n",
    "    nodes_to_visit.remove(node)\n",
    "\n",
    "    while nodes_to_visit:\n",
    "        nearest_node = min([(dist_matrix[node][j], j) for j in nodes_to_visit], key=lambda x: x[0])\n",
    "        node = nearest_node[1]\n",
    "        nodes_to_visit.remove(node)\n",
    "        result.append(node)\n",
    "\n",
    "    return result"
   ]
  },
  {
   "cell_type": "markdown",
   "metadata": {},
   "source": [
    "By using below function we can animate the solution over times\n",
    "------\n",
    "      Parameters\n",
    "     --------------\n",
    "        hisotry : list\n",
    "            history of the solutions chosen by the algorith\n",
    "        points: array_like\n",
    "            points with the coordinates"
   ]
  },
  {
   "cell_type": "code",
   "execution_count": 5,
   "metadata": {},
   "outputs": [],
   "source": [
    "def animateTSP(history, points):\n",
    "    # Approx 1500 frames for animation \n",
    "    key_frames_mult = len(history) // 1500\n",
    "\n",
    "    fig, ax = plt.subplots()\n",
    "\n",
    "    # Path is a line coming through all the nodes \n",
    "    line, = plt.plot([], [], lw=2)\n",
    "\n",
    "    def init():\n",
    "        # Initialize node dots on graph \n",
    "        x = [points[i][0] for i in history[0]]\n",
    "        y = [points[i][1] for i in history[0]]\n",
    "        plt.plot(x, y, 'co')\n",
    "\n",
    "        # Draw axes slighty bigger  \n",
    "        extra_x = (max(x) - min(x)) * 0.05\n",
    "        extra_y = (max(y) - min(y)) * 0.05\n",
    "        ax.set_xlim(min(x) - extra_x, max(x) + extra_x)\n",
    "        ax.set_ylim(min(y) - extra_y, max(y) + extra_y)\n",
    "\n",
    "        # Initialize solution to be empty\n",
    "        line.set_data([], [])\n",
    "        return line,\n",
    "\n",
    "    def update(frame):\n",
    "        # For every frame update the solution on the graph\n",
    "        x = [points[i, 0] for i in history[frame] + [history[frame][0]]]\n",
    "        y = [points[i, 1] for i in history[frame] + [history[frame][0]]]\n",
    "        line.set_data(x, y)\n",
    "        return line\n",
    "\n",
    "    \n",
    "    # Animate precalulated solutions\n",
    "    ani = FuncAnimation(fig, update, frames=range(0, len(history), key_frames_mult),\n",
    "                        init_func=init, interval=3, repeat=False)\n",
    "    \n",
    "    # Plot the result\n",
    "    plt.show()\n"
   ]
  },
  {
   "cell_type": "markdown",
   "metadata": {},
   "source": [
    "Simulated annealing implementation\n",
    "----\n",
    "            Parameters\n",
    "            ----------\n",
    "            coords: array_like\n",
    "                list of coordinates\n",
    "            temp: float\n",
    "                initial temperature\n",
    "            alpha: float\n",
    "                rate at which temp decreases\n",
    "            stopping_temp: float\n",
    "                temerature at which annealing process terminates\n",
    "            stopping_iter: int\n",
    "                interation at which annealing process terminates\n",
    "  ---\n",
    "  \n",
    "  Note: \n",
    "       This class use animateTSP function for animating the solution over times."
   ]
  },
  {
   "cell_type": "code",
   "execution_count": 6,
   "metadata": {},
   "outputs": [],
   "source": [
    "class SimulatedAnnealing:\n",
    "    def __init__(self, coords, temp, alpha, stopping_temp, stopping_iter):\n",
    "\n",
    "        self.coords = coords\n",
    "        self.sample_size = len(coords)\n",
    "        self.temp = temp\n",
    "        self.alpha = alpha\n",
    "        self.stopping_temp = stopping_temp\n",
    "        self.stopping_iter = stopping_iter\n",
    "        self.iteration = 1\n",
    "\n",
    "        self.dist_matrix = vectorToDistMatrix(coords)\n",
    "        self.curr_solution = nearestNeighbourSolution(self.dist_matrix)\n",
    "        self.best_solution = self.curr_solution\n",
    "\n",
    "        self.solution_history = [self.curr_solution]\n",
    "\n",
    "        self.curr_weight = self.weight(self.curr_solution)\n",
    "        self.initial_weight = self.curr_weight\n",
    "        self.min_weight = self.curr_weight\n",
    "\n",
    "        self.weight_list = [self.curr_weight]\n",
    "\n",
    "        print('Intial weight: ', self.curr_weight)\n",
    "\n",
    "    def weight(self, sol):\n",
    "        # Calcuate weight\n",
    "        return sum([self.dist_matrix[i, j] for i, j in zip(sol, sol[1:] + [sol[0]])])\n",
    "\n",
    "    def acceptance_probability(self, candidate_weight):\n",
    "        '''\n",
    "        Acceptance probability as described in:\n",
    "            https://stackoverflow.com/questions/19757551/basics-of-simulated-annealing-in-python\n",
    "        '''\n",
    "        return math.exp(-abs(candidate_weight - self.curr_weight) / self.temp)\n",
    "\n",
    "    def accept(self, candidate):\n",
    "        '''\n",
    "        Accept with probability 1 if candidate solution is better than\n",
    "        current solution, else accept with probability equal to the\n",
    "        acceptance_probability()\n",
    "        '''\n",
    "        candidate_weight = self.weight(candidate)\n",
    "        if candidate_weight < self.curr_weight:\n",
    "            self.curr_weight = candidate_weight\n",
    "            self.curr_solution = candidate\n",
    "            if candidate_weight < self.min_weight:\n",
    "                self.min_weight = candidate_weight\n",
    "                self.best_solution = candidate\n",
    "\n",
    "        else:\n",
    "            if random.random() < self.acceptance_probability(candidate_weight):\n",
    "                self.curr_weight = candidate_weight\n",
    "                self.curr_solution = candidate\n",
    "\n",
    "    def anneal(self):\n",
    "        '''\n",
    "        Annealing process with 2-opt\n",
    "        described here: https://en.wikipedia.org/wiki/2-opt\n",
    "        '''\n",
    "        while self.temp >= self.stopping_temp and self.iteration < self.stopping_iter:\n",
    "            candidate = list(self.curr_solution)\n",
    "            l = random.randint(2, self.sample_size - 1)\n",
    "            i = random.randint(0, self.sample_size - l)\n",
    "\n",
    "            candidate[i: (i + l)] = reversed(candidate[i: (i + l)])\n",
    "\n",
    "            self.accept(candidate)\n",
    "            self.temp *= self.alpha\n",
    "            self.iteration += 1\n",
    "            self.weight_list.append(self.curr_weight)\n",
    "            self.solution_history.append(self.curr_solution)\n",
    "\n",
    "        print('Minimum weight: ', self.min_weight)\n",
    "        print('Improvement: ',\n",
    "              round((self.initial_weight - self.min_weight) / (self.initial_weight), 4) * 100, '%')\n",
    "\n",
    "    def animateSolutions(self):\n",
    "        animateTSP(self.solution_history, self.coords)\n",
    "\n",
    "    def plotLearning(self):\n",
    "        plt.plot([i for i in range(len(self.weight_list))], self.weight_list)\n",
    "        line_init = plt.axhline(y=self.initial_weight, color='r', linestyle='--')\n",
    "        line_min = plt.axhline(y=self.min_weight, color='g', linestyle='--')\n",
    "        plt.legend([line_init, line_min], ['Initial weight', 'Optimized weight'])\n",
    "        plt.ylabel('Weight')\n",
    "        plt.xlabel('Iteration')\n",
    "        plt.show()\n"
   ]
  },
  {
   "cell_type": "markdown",
   "metadata": {},
   "source": [
    "# Let's run the code !"
   ]
  },
  {
   "cell_type": "markdown",
   "metadata": {},
   "source": [
    "### Set the simulated annealing algorithm params"
   ]
  },
  {
   "cell_type": "code",
   "execution_count": 7,
   "metadata": {},
   "outputs": [],
   "source": [
    "temp = 1000\n",
    "stopping_temp = 0.00000001\n",
    "alpha = 0.9995\n",
    "stopping_iter = 10000000"
   ]
  },
  {
   "cell_type": "markdown",
   "metadata": {},
   "source": [
    "### Set the dimensions of the grid"
   ]
  },
  {
   "cell_type": "code",
   "execution_count": 8,
   "metadata": {},
   "outputs": [],
   "source": [
    "size_width = 200\n",
    "size_height = 200"
   ]
  },
  {
   "cell_type": "markdown",
   "metadata": {},
   "source": [
    "### Set the number of nodes"
   ]
  },
  {
   "cell_type": "code",
   "execution_count": 9,
   "metadata": {},
   "outputs": [],
   "source": [
    "population_size = 70"
   ]
  },
  {
   "cell_type": "markdown",
   "metadata": {},
   "source": [
    "### Generate random list of nodes"
   ]
  },
  {
   "cell_type": "code",
   "execution_count": 10,
   "metadata": {},
   "outputs": [],
   "source": [
    "nodes = NodeGenerator(size_width, size_height, population_size).generate()"
   ]
  },
  {
   "cell_type": "markdown",
   "metadata": {},
   "source": [
    "### Run simulated annealing algorithm with 2-opt"
   ]
  },
  {
   "cell_type": "code",
   "execution_count": 11,
   "metadata": {},
   "outputs": [
    {
     "name": "stdout",
     "output_type": "stream",
     "text": [
      "Intial weight:  1713.1156179948994\n",
      "Minimum weight:  1408.5051387924038\n",
      "Improvement:  17.78 %\n"
     ]
    }
   ],
   "source": [
    "sa = SimulatedAnnealing(nodes, temp, alpha, stopping_temp, stopping_iter)\n",
    "sa.anneal()"
   ]
  },
  {
   "cell_type": "markdown",
   "metadata": {},
   "source": [
    "### Animate"
   ]
  },
  {
   "cell_type": "code",
   "execution_count": 12,
   "metadata": {},
   "outputs": [
    {
     "data": {
      "image/png": "[encoded data removed]",
      "text/plain": [
       "<Figure size 432x288 with 1 Axes>"
      ]
     },
     "metadata": {
      "needs_background": "light"
     },
     "output_type": "display_data"
    }
   ],
   "source": [
    "sa.animateSolutions()"
   ]
  },
  {
   "cell_type": "markdown",
   "metadata": {},
   "source": [
    "###### Note:  Maybe animate does'nt  display on jupyter..! for see the animate result run \"Simulated Annealing Algotithm to sove Travelling Salesman Problem (TSP) in Python From Scratch.py\" in IDLE or another python environment."
   ]
  },
  {
   "cell_type": "markdown",
   "metadata": {},
   "source": [
    "### Show the improvement over time"
   ]
  },
  {
   "cell_type": "code",
   "execution_count": 13,
   "metadata": {},
   "outputs": [
    {
     "data": {
      "image/png": "[encoded data removed]",
      "text/plain": [
       "<Figure size 432x288 with 1 Axes>"
      ]
     },
     "metadata": {
      "needs_background": "light"
     },
     "output_type": "display_data"
    }
   ],
   "source": [
    "sa.plotLearning()"
   ]
  },
  {
   "cell_type": "code",
   "execution_count": null,
   "metadata": {},
   "outputs": [],
   "source": []
  }
 ],
 "metadata": {
  "kernelspec": {
   "display_name": "Python 3",
   "language": "python",
   "name": "python3"
  },
  "language_info": {
   "codemirror_mode": {
    "name": "ipython",
    "version": 3
   },
   "file_extension": ".py",
   "mimetype": "text/x-python",
   "name": "python",
   "nbconvert_exporter": "python",
   "pygments_lexer": "ipython3",
   "version": "3.7.4"
  }
 },
 "nbformat": 4,
 "nbformat_minor": 2
}
