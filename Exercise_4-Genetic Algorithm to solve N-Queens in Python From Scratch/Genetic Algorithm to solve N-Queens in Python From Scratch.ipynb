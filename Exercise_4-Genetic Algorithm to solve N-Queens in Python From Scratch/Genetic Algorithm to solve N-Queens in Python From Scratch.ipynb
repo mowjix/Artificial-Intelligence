{
 "cells": [
  {
   "cell_type": "markdown",
   "metadata": {},
   "source": [
    "# Genetic Algorithm to Solve N-Queens Problem in Python From Scratch\n",
    "---\n",
    " \n",
    "    By: Mojtaba Zolfaghari\n",
    "    Last updated on April 29, 2021"
   ]
  },
  {
   "cell_type": "markdown",
   "metadata": {},
   "source": [
    "### Importing libraries"
   ]
  },
  {
   "cell_type": "code",
   "execution_count": 1,
   "metadata": {},
   "outputs": [],
   "source": [
    "import random"
   ]
  },
  {
   "cell_type": "markdown",
   "metadata": {},
   "source": [
    "### random_chromosome function\n",
    "---\n",
    "random_chromosome get `size` as a parameter then return a random integer list in range of [1,np].\n",
    "\n",
    "Actually we can make random chromosomes with this function."
   ]
  },
  {
   "cell_type": "code",
   "execution_count": 2,
   "metadata": {},
   "outputs": [],
   "source": [
    "def random_chromosome(size):\n",
    "    return [ random.randint(1, nq) for _ in range(nq) ]"
   ]
  },
  {
   "cell_type": "markdown",
   "metadata": {},
   "source": [
    "### fitness function \n",
    "---\n",
    "fitness function takes `chromosome` as parameter computes pairs of non-attacking queens."
   ]
  },
  {
   "cell_type": "code",
   "execution_count": 3,
   "metadata": {},
   "outputs": [],
   "source": [
    "def fitness(chromosome):\n",
    "    horizontal_collisions = sum([chromosome.count(queen)-1 for queen in chromosome])/2\n",
    "    diagonal_collisions = 0\n",
    "\n",
    "    n = len(chromosome)\n",
    "    left_diagonal = [0] * 2*n\n",
    "    right_diagonal = [0] * 2*n\n",
    "    for i in range(n):\n",
    "        left_diagonal[i + chromosome[i] - 1] += 1\n",
    "        right_diagonal[len(chromosome) - i + chromosome[i] - 2] += 1\n",
    "\n",
    "    diagonal_collisions = 0\n",
    "    for i in range(2*n-1):\n",
    "        counter = 0\n",
    "        if left_diagonal[i] > 1:\n",
    "            counter += left_diagonal[i]-1\n",
    "        if right_diagonal[i] > 1:\n",
    "            counter += right_diagonal[i]-1\n",
    "        diagonal_collisions += counter / (n-abs(i-n+1))\n",
    "    \n",
    "    return int(maxFitness - (horizontal_collisions + diagonal_collisions))"
   ]
  },
  {
   "cell_type": "markdown",
   "metadata": {},
   "source": [
    "### probability function\n",
    "---\n",
    "probability function takes `chromosome` and `fitness` as parameters and then returns probability of chromosome."
   ]
  },
  {
   "cell_type": "code",
   "execution_count": 4,
   "metadata": {},
   "outputs": [],
   "source": [
    "def probability(chromosome, fitness):\n",
    "    return fitness(chromosome) / maxFitness"
   ]
  },
  {
   "cell_type": "markdown",
   "metadata": {},
   "source": [
    "### random_pick function\n",
    "---\n",
    "random_pick function takes `population` and `probabilities` as parameters. "
   ]
  },
  {
   "cell_type": "code",
   "execution_count": 5,
   "metadata": {},
   "outputs": [],
   "source": [
    "def random_pick(population, probabilities):\n",
    "    populationWithProbabilty = zip(population, probabilities)\n",
    "    total = sum(w for c, w in populationWithProbabilty)\n",
    "    r = random.uniform(0, total)\n",
    "    upto = 0\n",
    "    for c, w in zip(population, probabilities):\n",
    "        if upto + w >= r:\n",
    "            return c\n",
    "        upto += w\n",
    "    assert False, \"Shouldn't get here\"   "
   ]
  },
  {
   "cell_type": "markdown",
   "metadata": {},
   "source": [
    "### reproduce function\n",
    "---\n",
    "reproduce function takes two chromosomes and doing `cross_over` between two chromosomes"
   ]
  },
  {
   "cell_type": "code",
   "execution_count": 6,
   "metadata": {},
   "outputs": [],
   "source": [
    "def reproduce(x, y): \n",
    "    n = len(x)\n",
    "    c = random.randint(0, n - 1)\n",
    "    return x[0:c] + y[c:n]"
   ]
  },
  {
   "cell_type": "markdown",
   "metadata": {},
   "source": [
    "### mutate function\n",
    "---\n",
    "mutate function takes one parameter (`chromosom`) and then randomly changes the value of a random index of a `chromosome`"
   ]
  },
  {
   "cell_type": "code",
   "execution_count": 7,
   "metadata": {},
   "outputs": [],
   "source": [
    "def mutate(x): \n",
    "    n = len(x)\n",
    "    c = random.randint(0, n - 1)\n",
    "    m = random.randint(1, n)\n",
    "    x[c] = m\n",
    "    return x"
   ]
  },
  {
   "cell_type": "markdown",
   "metadata": {},
   "source": [
    "### print_chromosome function\n",
    "---\n",
    "print_chromosome function takes `chrom` as a parameter and then prints `chrom` and `fitness(chrom)`"
   ]
  },
  {
   "cell_type": "code",
   "execution_count": 8,
   "metadata": {},
   "outputs": [],
   "source": [
    "def print_chromosome(chrom):\n",
    "    print(\"Chromosome = {},  Fitness = {}\".format(str(chrom), fitness(chrom)))"
   ]
  },
  {
   "cell_type": "markdown",
   "metadata": {},
   "source": [
    "### genetic_queen function\n",
    "---\n",
    "\n",
    "genetic_queen takes `population` and `fitness` as parameters and then computes `probabilities` according to `probability function`. in the next step in a for loop according to  `random_pick function` choose two the best chromosomes and according to `reproduce function` creates two new chromosomes from the best 2 chromosomes. in the next step probabably if a random number was smaller than our `mutation_probability = 0.03` then according to `mutate function` changes  chromosom and. finally by using `print_chromosome function` prints out than chromosome and finally append it in `new_population list`. This for loop continues until the `chromosome` fitness reaches its maximum fitness or traverses the entire population. atlast this function returns`\"new_population`."
   ]
  },
  {
   "cell_type": "code",
   "execution_count": 9,
   "metadata": {},
   "outputs": [],
   "source": [
    "def genetic_queen(population, fitness):\n",
    "    mutation_probability = 0.03\n",
    "    new_population = []\n",
    "    probabilities = [probability(n, fitness) for n in population]\n",
    "    for i in range(len(population)):\n",
    "        x = random_pick(population, probabilities) #best chromosome 1\n",
    "        y = random_pick(population, probabilities) #best chromosome 2\n",
    "        child = reproduce(x, y) #creating two new chromosomes from the best 2 chromosomes\n",
    "        if random.random() < mutation_probability:\n",
    "            child = mutate(child)\n",
    "        print_chromosome(child)\n",
    "        new_population.append(child)\n",
    "        if fitness(child) == maxFitness: break\n",
    "    return new_population"
   ]
  },
  {
   "cell_type": "markdown",
   "metadata": {},
   "source": [
    "### print_board function\n",
    "---\n",
    "print_board takes one parameter (`board`) as a list and then prints it out as string with one space between each elements of list."
   ]
  },
  {
   "cell_type": "code",
   "execution_count": 10,
   "metadata": {},
   "outputs": [],
   "source": [
    "def print_board(board):\n",
    "    for row in board:\n",
    "        print (\" \".join(row))"
   ]
  },
  {
   "cell_type": "markdown",
   "metadata": {},
   "source": [
    "### check_and_solve function \n",
    "---\n",
    "\n",
    "check_and_solve function takes `maxFitness` and `population` as parameters and then in the \n",
    "first during a while loop generates all of possible scenarios. In the second step during a for loop prints out all chromosomes with maximum fitness value and in the last step we are going to prints out last solution board."
   ]
  },
  {
   "cell_type": "code",
   "execution_count": 11,
   "metadata": {},
   "outputs": [],
   "source": [
    "def check_and_solve(maxFitness, population):\n",
    "    generation = 1\n",
    "    while not maxFitness in [fitness(chrom) for chrom in population]:\n",
    "        print(\"=== Generation {} ===\".format(generation))\n",
    "        population = genetic_queen(population, fitness)\n",
    "        print(\"\\nMaximum Fitness = {}\".format(max([fitness(n) for n in population])))\n",
    "        print(\"\\n\\n\")\n",
    "        generation += 1\n",
    "    chrom_out = []\n",
    "    print(\"Solved in Generation {}!\".format(generation-1))\n",
    "    for chrom in population:\n",
    "        if fitness(chrom) == maxFitness:\n",
    "            print(\"\")\n",
    "            print(\"One of the solutions: \")\n",
    "            chrom_out = chrom\n",
    "            print_chromosome(chrom)\n",
    "\n",
    "    board = []\n",
    "\n",
    "    for x in range(nq):\n",
    "        board.append([\"x\"] * nq)\n",
    "\n",
    "    for i in range(nq):\n",
    "        board[nq-chrom_out[i]][i]=\"Q\"\n",
    "    \n",
    "    print_board(board)"
   ]
  },
  {
   "cell_type": "markdown",
   "metadata": {},
   "source": [
    "### Let's run this code!\n",
    "---\n",
    "Assume than we are going to solve 4-Queens problem."
   ]
  },
  {
   "cell_type": "code",
   "execution_count": 13,
   "metadata": {
    "scrolled": true
   },
   "outputs": [
    {
     "name": "stdout",
     "output_type": "stream",
     "text": [
      "Enter Number of Queens: 4\n",
      "=== Generation 1 ===\n",
      "Chromosome = [2, 3, 4, 2],  Fitness = 4\n",
      "Chromosome = [1, 1, 3, 2],  Fitness = 4\n",
      "Chromosome = [4, 3, 4, 2],  Fitness = 4\n",
      "Chromosome = [1, 1, 2, 4],  Fitness = 4\n",
      "Chromosome = [4, 2, 4, 4],  Fitness = 2\n",
      "Chromosome = [2, 2, 4, 4],  Fitness = 3\n",
      "Chromosome = [1, 3, 1, 1],  Fitness = 2\n",
      "Chromosome = [2, 2, 4, 1],  Fitness = 4\n",
      "Chromosome = [2, 1, 2, 3],  Fitness = 3\n",
      "Chromosome = [4, 2, 4, 4],  Fitness = 2\n",
      "Chromosome = [3, 1, 1, 2],  Fitness = 4\n",
      "Chromosome = [2, 2, 3, 1],  Fitness = 4\n",
      "Chromosome = [4, 3, 1, 2],  Fitness = 5\n",
      "Chromosome = [4, 1, 3, 1],  Fitness = 4\n",
      "Chromosome = [2, 1, 2, 4],  Fitness = 4\n",
      "Chromosome = [3, 3, 1, 3],  Fitness = 2\n",
      "Chromosome = [3, 2, 3, 2],  Fitness = 3\n",
      "Chromosome = [1, 3, 1, 1],  Fitness = 2\n",
      "Chromosome = [3, 2, 4, 1],  Fitness = 5\n",
      "Chromosome = [1, 3, 2, 4],  Fitness = 5\n",
      "Chromosome = [3, 1, 2, 2],  Fitness = 4\n",
      "Chromosome = [2, 1, 4, 3],  Fitness = 4\n",
      "Chromosome = [2, 1, 4, 1],  Fitness = 4\n",
      "Chromosome = [1, 4, 2, 2],  Fitness = 4\n",
      "Chromosome = [4, 1, 3, 3],  Fitness = 4\n",
      "Chromosome = [3, 1, 1, 2],  Fitness = 4\n",
      "Chromosome = [3, 1, 1, 2],  Fitness = 4\n",
      "Chromosome = [1, 3, 1, 1],  Fitness = 2\n",
      "Chromosome = [2, 2, 2, 2],  Fitness = 0\n",
      "Chromosome = [3, 2, 2, 3],  Fitness = 3\n",
      "Chromosome = [4, 1, 3, 3],  Fitness = 4\n",
      "Chromosome = [1, 4, 4, 2],  Fitness = 4\n",
      "Chromosome = [1, 4, 1, 1],  Fitness = 3\n",
      "Chromosome = [1, 3, 1, 4],  Fitness = 4\n",
      "Chromosome = [4, 2, 1, 1],  Fitness = 4\n",
      "Chromosome = [3, 3, 2, 1],  Fitness = 4\n",
      "Chromosome = [2, 4, 3, 4],  Fitness = 4\n",
      "Chromosome = [1, 1, 3, 4],  Fitness = 4\n",
      "Chromosome = [3, 1, 1, 4],  Fitness = 4\n",
      "Chromosome = [3, 1, 3, 4],  Fitness = 4\n",
      "Chromosome = [2, 2, 3, 2],  Fitness = 2\n",
      "Chromosome = [2, 3, 4, 4],  Fitness = 4\n",
      "Chromosome = [1, 3, 2, 3],  Fitness = 4\n",
      "Chromosome = [4, 2, 1, 4],  Fitness = 4\n",
      "Chromosome = [3, 1, 3, 1],  Fitness = 4\n",
      "Chromosome = [1, 3, 3, 1],  Fitness = 3\n",
      "Chromosome = [2, 2, 3, 3],  Fitness = 3\n",
      "Chromosome = [1, 3, 2, 3],  Fitness = 4\n",
      "Chromosome = [2, 3, 2, 3],  Fitness = 3\n",
      "Chromosome = [3, 2, 3, 1],  Fitness = 4\n",
      "Chromosome = [2, 3, 3, 2],  Fitness = 3\n",
      "Chromosome = [4, 1, 2, 4],  Fitness = 4\n",
      "Chromosome = [4, 3, 3, 1],  Fitness = 4\n",
      "Chromosome = [4, 3, 2, 2],  Fitness = 4\n",
      "Chromosome = [1, 4, 3, 2],  Fitness = 5\n",
      "Chromosome = [1, 2, 1, 3],  Fitness = 4\n",
      "Chromosome = [1, 4, 1, 1],  Fitness = 3\n",
      "Chromosome = [1, 4, 4, 1],  Fitness = 4\n",
      "Chromosome = [3, 1, 2, 3],  Fitness = 4\n",
      "Chromosome = [1, 3, 1, 2],  Fitness = 4\n",
      "Chromosome = [1, 2, 3, 1],  Fitness = 4\n",
      "Chromosome = [4, 2, 2, 4],  Fitness = 3\n",
      "Chromosome = [3, 3, 2, 4],  Fitness = 4\n",
      "Chromosome = [1, 1, 4, 2],  Fitness = 5\n",
      "Chromosome = [2, 2, 2, 1],  Fitness = 2\n",
      "Chromosome = [1, 1, 2, 3],  Fitness = 4\n",
      "Chromosome = [4, 2, 1, 4],  Fitness = 4\n",
      "Chromosome = [3, 3, 2, 1],  Fitness = 4\n",
      "Chromosome = [4, 3, 2, 2],  Fitness = 4\n",
      "Chromosome = [1, 2, 2, 4],  Fitness = 4\n",
      "Chromosome = [2, 2, 3, 4],  Fitness = 4\n",
      "Chromosome = [4, 3, 3, 3],  Fitness = 2\n",
      "Chromosome = [1, 1, 1, 4],  Fitness = 2\n",
      "Chromosome = [1, 1, 1, 2],  Fitness = 2\n",
      "Chromosome = [1, 3, 2, 4],  Fitness = 5\n",
      "Chromosome = [2, 4, 1, 2],  Fitness = 4\n",
      "Chromosome = [2, 1, 3, 2],  Fitness = 4\n",
      "Chromosome = [2, 1, 2, 4],  Fitness = 4\n",
      "Chromosome = [2, 1, 3, 4],  Fitness = 5\n",
      "Chromosome = [3, 4, 2, 1],  Fitness = 5\n",
      "Chromosome = [2, 3, 4, 2],  Fitness = 4\n",
      "Chromosome = [4, 1, 2, 4],  Fitness = 4\n",
      "Chromosome = [3, 1, 1, 2],  Fitness = 4\n",
      "Chromosome = [1, 4, 3, 1],  Fitness = 4\n",
      "Chromosome = [1, 3, 1, 4],  Fitness = 4\n",
      "Chromosome = [2, 4, 1, 2],  Fitness = 4\n",
      "Chromosome = [2, 1, 4, 2],  Fitness = 4\n",
      "Chromosome = [1, 1, 3, 4],  Fitness = 4\n",
      "Chromosome = [2, 2, 4, 1],  Fitness = 4\n",
      "Chromosome = [2, 2, 4, 3],  Fitness = 4\n",
      "Chromosome = [1, 1, 3, 3],  Fitness = 3\n",
      "Chromosome = [2, 2, 1, 4],  Fitness = 4\n",
      "Chromosome = [4, 1, 4, 4],  Fitness = 3\n",
      "Chromosome = [2, 2, 4, 1],  Fitness = 4\n",
      "Chromosome = [4, 4, 4, 4],  Fitness = 0\n",
      "Chromosome = [1, 1, 2, 2],  Fitness = 3\n",
      "Chromosome = [4, 3, 1, 2],  Fitness = 5\n",
      "Chromosome = [2, 1, 3, 1],  Fitness = 4\n",
      "Chromosome = [1, 1, 3, 3],  Fitness = 3\n",
      "Chromosome = [1, 4, 3, 4],  Fitness = 4\n",
      "\n",
      "Maximum Fitness = 5\n",
      "\n",
      "\n",
      "\n",
      "=== Generation 2 ===\n",
      "Chromosome = [2, 4, 1, 3],  Fitness = 6\n",
      "\n",
      "Maximum Fitness = 6\n",
      "\n",
      "\n",
      "\n",
      "Solved in Generation 2!\n",
      "\n",
      "One of the solutions: \n",
      "Chromosome = [2, 4, 1, 3],  Fitness = 6\n",
      "x Q x x\n",
      "x x x Q\n",
      "Q x x x\n",
      "x x Q x\n"
     ]
    }
   ],
   "source": [
    "nq = int(input(\"Enter Number of Queens: \"))  # say N = 4\n",
    "maxFitness = (nq*(nq-1))/2   # 4*3/2 = 6\n",
    "population = [random_chromosome(nq) for _ in range(100)]\n",
    "\n",
    "check_and_solve(maxFitness, population)"
   ]
  },
  {
   "cell_type": "code",
   "execution_count": null,
   "metadata": {},
   "outputs": [],
   "source": []
  }
 ],
 "metadata": {
  "kernelspec": {
   "display_name": "Python 3",
   "language": "python",
   "name": "python3"
  },
  "language_info": {
   "codemirror_mode": {
    "name": "ipython",
    "version": 3
   },
   "file_extension": ".py",
   "mimetype": "text/x-python",
   "name": "python",
   "nbconvert_exporter": "python",
   "pygments_lexer": "ipython3",
   "version": "3.7.4"
  }
 },
 "nbformat": 4,
 "nbformat_minor": 2
}
